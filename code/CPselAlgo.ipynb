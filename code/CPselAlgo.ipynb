{
 "cells": [
  {
   "cell_type": "code",
   "execution_count": 1,
   "id": "a53b80be-91e6-4cf3-a272-6bcff87144cd",
   "metadata": {},
   "outputs": [
    {
     "name": "stderr",
     "output_type": "stream",
     "text": [
      "/usr/lib/python3/dist-packages/scipy/__init__.py:146: UserWarning: A NumPy version >=1.17.3 and <1.25.0 is required for this version of SciPy (detected version 1.26.4\n",
      "  warnings.warn(f\"A NumPy version >={np_minversion} and <{np_maxversion}\"\n"
     ]
    }
   ],
   "source": [
    "%matplotlib inline\n",
    "import pylab as plt\n",
    "import numpy as np\n",
    "from AnalyzeCalib import getCM, selCPalgo,cmPredict\n",
    "from matusplotlib import loadStanFit\n",
    "NA=np.newaxis"
   ]
  },
  {
   "cell_type": "code",
   "execution_count": 2,
   "id": "a0f9e72d-1385-4f84-af7d-8f07b9f0b2bb",
   "metadata": {},
   "outputs": [],
   "source": [
    "def compare(dat,excludeNan=True,verbose=False):\n",
    "    if excludeNan:\n",
    "        sel=dat[:,:,0].sum(1)>2\n",
    "        dat=dat[sel,:,:]\n",
    "    if excludeNan: cn=dat[:,:,0]\n",
    "    else:cn=1\n",
    "    A=np.logical_and(np.logical_and(dat[:,:,1]==1,dat[:,:,2]==1),cn==1).sum()\n",
    "    B=np.logical_and(np.logical_and(dat[:,:,1]==1,dat[:,:,2]==0),cn==1).sum()\n",
    "    C=np.logical_and(np.logical_and(dat[:,:,1]==0,dat[:,:,2]==1),cn==1).sum()\n",
    "    D=np.logical_and(np.logical_and(dat[:,:,1]==0,dat[:,:,2]==0),cn==1).sum()\n",
    "    N=A+B+C+D\n",
    "    p0=(A+D)/N;pe=(A+B)*(A+C)/N/N+(C+D)*(B+D)/N/N\n",
    "    kp=(p0-pe)/(1-pe)\n",
    "    if verbose:\n",
    "        print(f'\\tp0={p0:.3f},kappa={kp:.3f}')\n",
    "        print('\\tsensitivity',A/(A+C),A+C)\n",
    "        print('\\tspecificity',D/(B+D),B+D)\n",
    "    return kp\n",
    "\n",
    "\n",
    "def selCPalgoAll(y,c,th,minNrCL,repeat,algo):\n",
    "    temp=np.zeros(y.shape[:-1])\n",
    "    for n in range(y.shape[0]):\n",
    "        for m in range(y.shape[1]):\n",
    "            P=[5,9][int(m==0 or m==3)]\n",
    "            res= selCPalgo(y[n,m,:P,:],c[n,m,:P,:],\n",
    "                threshold=th,minNrCL=minNrCL, repeat=repeat,algo=algo)\n",
    "            temp[n,m,:P]= np.int32(~np.isnan(res[2][:,0]))\n",
    "    return temp\n"
   ]
  },
  {
   "cell_type": "code",
   "execution_count": null,
   "id": "0b010cfa",
   "metadata": {},
   "outputs": [],
   "source": []
  },
  {
   "cell_type": "code",
   "execution_count": 32,
   "id": "88f17ed6",
   "metadata": {},
   "outputs": [
    {
     "data": {
      "text/plain": [
       "array([[[1., 1., 1., ..., 1., 1., 1.],\n",
       "        [1., 1., 1., ..., 0., 0., 0.],\n",
       "        [1., 1., 1., ..., 0., 0., 0.],\n",
       "        [1., 1., 1., ..., 0., 1., 1.],\n",
       "        [1., 1., 1., ..., 0., 0., 0.],\n",
       "        [1., 1., 0., ..., 0., 0., 0.]],\n",
       "\n",
       "       [[1., 1., 0., ..., 1., 0., 1.],\n",
       "        [1., 0., 0., ..., 0., 0., 0.],\n",
       "        [1., 1., 1., ..., 0., 0., 0.],\n",
       "        [1., 0., 0., ..., 1., 0., 1.],\n",
       "        [0., 0., 0., ..., 0., 0., 0.],\n",
       "        [0., 0., 0., ..., 0., 0., 0.]],\n",
       "\n",
       "       [[0., 0., 0., ..., 0., 0., 0.],\n",
       "        [0., 0., 0., ..., 0., 0., 0.],\n",
       "        [0., 0., 0., ..., 0., 0., 0.],\n",
       "        [1., 1., 1., ..., 1., 1., 1.],\n",
       "        [0., 0., 0., ..., 0., 0., 0.],\n",
       "        [0., 0., 0., ..., 0., 0., 0.]],\n",
       "\n",
       "       ...,\n",
       "\n",
       "       [[1., 1., 1., ..., 1., 1., 1.],\n",
       "        [0., 0., 0., ..., 0., 0., 0.],\n",
       "        [1., 1., 0., ..., 0., 0., 0.],\n",
       "        [0., 0., 0., ..., 0., 0., 0.],\n",
       "        [0., 0., 0., ..., 0., 0., 0.],\n",
       "        [1., 1., 0., ..., 0., 0., 0.]],\n",
       "\n",
       "       [[1., 0., 0., ..., 1., 1., 1.],\n",
       "        [1., 0., 0., ..., 0., 0., 0.],\n",
       "        [1., 1., 1., ..., 0., 0., 0.],\n",
       "        [1., 1., 0., ..., 1., 0., 1.],\n",
       "        [1., 0., 0., ..., 0., 0., 0.],\n",
       "        [1., 1., 1., ..., 0., 0., 0.]],\n",
       "\n",
       "       [[1., 1., 0., ..., 1., 0., 0.],\n",
       "        [0., 0., 0., ..., 0., 0., 0.],\n",
       "        [0., 0., 0., ..., 0., 0., 0.],\n",
       "        [1., 1., 0., ..., 0., 0., 0.],\n",
       "        [0., 0., 0., ..., 0., 0., 0.],\n",
       "        [0., 0., 0., ..., 0., 0., 0.]]])"
      ]
     },
     "execution_count": 32,
     "metadata": {},
     "output_type": "execute_result"
    }
   ],
   "source": [
    "tmp"
   ]
  },
  {
   "cell_type": "markdown",
   "id": "787cfac4-aa09-47fa-af76-3bc1fabb146d",
   "metadata": {},
   "source": [
    "# K015"
   ]
  },
  {
   "cell_type": "code",
   "execution_count": 4,
   "id": "90c41073-e4dc-4dad-a3e5-44c1e25c72be",
   "metadata": {},
   "outputs": [],
   "source": [
    "import ast\n",
    "MP={5:0,1:1,3:2,9:3,7:4,6:5,4:6,2:7,8:8}\n",
    "with open('k015/calib.sel','r') as f: dr=ast.literal_eval(f.read())\n",
    "res=list(dr.values());ids=list(dr.keys())\n",
    "for h in range(len(ids)):\n",
    "    ids[h]=np.int32(ids[h].rsplit('_'))\n",
    "ids=np.array(ids,dtype=np.int32)\n",
    "D0=np.load('k015/D0.npy')\n",
    "for n in range(D0.shape[0]):\n",
    "    sel=np.logical_and(D0[n,0]==ids[:,0],D0[n,1]==ids[:,1]).nonzero()[0]\n",
    "    assert(len(sel)==1)\n",
    "    D0[n,-1]= len(res[sel[0]])!=0\n",
    "\n",
    "D1=np.load('k015/D2.npy')\n",
    "sel=np.logical_and(~np.any(np.isnan(D1[:,1:-1,1]),1),D0[:,-1]==1)\n",
    "sel=D0[:,-1]==1\n",
    "D1=D1[sel,1:-1,1:7]\n",
    "#D1[:,:,[6,7]]=(D1[:,:,[2,3]]+D1[:,:,[4,5]])/2\n",
    "#D2=np.load('k015/D2cal.npy')[sel,1:-1,1:9]\n",
    "#D2[:,:,[6,7]]=(D2[:,:,[2,3]]+D2[:,:,[4,5]])/2\n",
    "mask=np.ones((D1.shape[0],2,D1.shape[1],5),dtype=np.int32)\n",
    "D0=D0[sel,:]\n",
    "for e in range(2):\n",
    "    mask[:,e,:,0]=1-np.int32(np.isnan(D1[:,:,2+e*2]))\n",
    "    mask[np.isnan(D1[:,:,2+e*2]).sum(1)>7,e,:,0]=0\n",
    "    for n in range(D1.shape[0]):\n",
    "        if np.all(np.isnan(D1[n,:,0])):\n",
    "            mask[n,e,:,1]=0\n",
    "            continue\n",
    "        \n",
    "        sel=np.logical_and(D0[n,0]==ids[:,0],D0[n,1]==ids[:,1]).nonzero()[0]\n",
    "        assert(len(sel)==1)\n",
    "        d=res[sel[0]]\n",
    "        if len(d)==0: mask[n,e,:,1]=0\n",
    "        elif len(d)==2:\n",
    "            for h in d[e]:mask[n,e,MP[h],1]=0\n",
    "            mask[n,e,np.isnan(D1[n,:,2+e*2]),1]=0\n",
    "        else:stop\n",
    "        #if D0[n,0]==67 and D0[n,1]==7:stop"
   ]
  },
  {
   "cell_type": "code",
   "execution_count": 34,
   "id": "595d03b3-e7c7-46df-bc1d-6adedf056c9c",
   "metadata": {},
   "outputs": [
    {
     "data": {
      "text/plain": [
       "(279, 2, 9, 5)"
      ]
     },
     "execution_count": 34,
     "metadata": {},
     "output_type": "execute_result"
    }
   ],
   "source": [
    "mask.shape"
   ]
  },
  {
   "cell_type": "code",
   "execution_count": 5,
   "id": "c4eadec7-60f0-4af8-968f-5d9795a7c209",
   "metadata": {},
   "outputs": [
    {
     "name": "stdout",
     "output_type": "stream",
     "text": [
      "2.25 0.6711653490950099\n"
     ]
    },
    {
     "data": {
      "image/png": "[encoded data removed]",
      "text/plain": [
       "<Figure size 640x480 with 1 Axes>"
      ]
     },
     "metadata": {},
     "output_type": "display_data"
    }
   ],
   "source": [
    "ths=np.linspace(1.5,3.5,41)#th=2.4, norm=0.8\n",
    "kaps=[]\n",
    "for t in range(len(ths)): \n",
    "    for eye in range(2):\n",
    "        mask[:,eye,:,2]=np.squeeze(selCPalgoAll(D1[:,NA,:,[2+eye*2,3+eye*2]],D1[:,NA,:,:2],\n",
    "                                                THACC=ths[t],NORM=0,MINVALIDCL=3))\n",
    "    shp=list(mask.shape)\n",
    "    kaps.append(compare(np.reshape(mask,[shp[0]*shp[1]]+shp[2:],order='F')))\n",
    "plt.plot(ths,kaps)\n",
    "plt.title('norm=0 (mean)')\n",
    "th=ths[np.argmax(kaps)]\n",
    "print(th,np.nanmax(kaps))"
   ]
  },
  {
   "cell_type": "code",
   "execution_count": 7,
   "id": "01133b66-ba34-4d7d-8e6e-14f06c23eff7",
   "metadata": {},
   "outputs": [
    {
     "name": "stdout",
     "output_type": "stream",
     "text": [
      "0.00,0.08\n",
      "0.01,0.29\n",
      "0.00,0.21\n",
      "p0=0.882,kappa=0.608\n",
      "sensitivity 0.9818660427025446 3419\n",
      "specificity 0.541 1000\n",
      "0.04,0.12\n",
      "0.05,0.32\n",
      "0.04,0.24\n",
      "p0=0.896,kappa=0.744\n",
      "sensitivity 0.9818660427025446 3419\n",
      "specificity 0.7136618839675608 1603\n"
     ]
    },
    {
     "data": {
      "text/plain": [
       "0.7444951653076327"
      ]
     },
     "execution_count": 7,
     "metadata": {},
     "output_type": "execute_result"
    }
   ],
   "source": [
    "for eye in range(2):\n",
    "    mask[:,eye,:,2]=np.squeeze(selCPalgoAll(D1[:,NA,:,[2+eye*2,3+eye*2]],\n",
    "        D1[:,NA,:,:2],THACC=ths[t],NORM=0,MINVALIDCL=3))\n",
    "\n",
    "shp=list(mask.shape)\n",
    "compare(np.reshape(mask,[shp[0]*shp[1]]+shp[2:],order='F'),verbose=True)\n",
    "compare(np.reshape(mask,[shp[0]*shp[1]]+shp[2:],order='F'),verbose=True,excludeNan=False)"
   ]
  },
  {
   "cell_type": "code",
   "execution_count": null,
   "id": "ac4332a2-c995-4c88-a53e-edd36251a979",
   "metadata": {},
   "outputs": [],
   "source": [
    "eye=0\n",
    "for n in range(mask.shape[0]):\n",
    "    plt.figure();\n",
    "    sel=mask[n,:,eye,1]==mask[n,:,eye,2]\n",
    "    if np.all(sel):continue\n",
    "    plt.plot(D1[n,sel,2+2*eye],D1[n,sel,3+2*eye],'.g');\n",
    "    plt.plot(D1[n,~sel,2+2*eye],D1[n,~sel,3+2*eye],'.r');\n",
    "    plt.plot(D1[n,:,0],D1[n,:,1],'.y');\n",
    "    plt.title(n);"
   ]
  },
  {
   "cell_type": "code",
   "execution_count": 9,
   "id": "46248d02-13a1-45ff-a0c5-746a7c632b8d",
   "metadata": {},
   "outputs": [
    {
     "name": "stdout",
     "output_type": "stream",
     "text": [
      "[1 1 1 1 1 1 1 1 1]\n",
      "[1 1 1 1 1 1 0 1 1]\n",
      "[143   7]\n"
     ]
    },
    {
     "data": {
      "image/png": "[encoded data removed]",
      "text/plain": [
       "<Figure size 640x480 with 1 Axes>"
      ]
     },
     "metadata": {},
     "output_type": "display_data"
    }
   ],
   "source": [
    "n=245\n",
    "print(mask[n,:,eye,1])\n",
    "print(mask[n,:,eye,2])\n",
    "for k in range(9):\n",
    "    plt.plot(D1[n,k,[2+2*eye,0]],D1[n,k,[3+2*eye,1]],'-g');\n",
    "    plt.plot(D1[n,k,0],D1[n,k,1],'.y');\n",
    "print(D0[n,:2])"
   ]
  },
  {
   "cell_type": "code",
   "execution_count": null,
   "id": "7edb5846-5b30-42b3-85f1-d739dff298f6",
   "metadata": {},
   "outputs": [],
   "source": [
    "D0=np.load('k015/D0.npy')\n",
    "D1=np.load('k015/D2.npy')\n",
    "print(D1.shape)\n",
    "sel=~np.all(np.isnan(D1[:,1:-1,1]),1)\n",
    "D0=D0[sel,:]\n",
    "D1=D1[sel,1:-1,1:7]\n",
    "print(D1.shape)\n",
    "#print(mask[n,:,eye,1])\n",
    "#print(mask[n,:,eye,2])\n",
    "f=open('k015/am.txt','w')\n",
    "for n in range(D1.shape[0]):\n",
    "    for eye in range(2):\n",
    "        fig,ax=plt.subplots()\n",
    "        for k in range(9):\n",
    "            ax.plot(D1[n,k,[2+2*eye,0]],D1[n,k,[3+2*eye,1]],'-g');\n",
    "        ax.scatter(D1[n,:,0],D1[n,:,1],color='y');\n",
    "        ttl=f'{D0[n,0]}_{D0[n,1]}_{eye}'\n",
    "        plt.title(ttl)\n",
    "        txtout=f'{D0[n,0]},{D0[n,1]},{eye},'\n",
    "        for k,h in enumerate([5,1,3,9,7,6,4,2,8]):\n",
    "            if not np.isnan(D1[n,k,2+2*eye]): ax.annotate(f'{h}',(D1[n,k,0],D1[n,k,1]))\n",
    "            else:txtout+=f'{h},'\n",
    "        f.write(txtout+'\\n')\n",
    "        #plt.savefig(f'k015/clb/{n*2+eye:03d}.png')\n",
    "f.close()"
   ]
  },
  {
   "cell_type": "markdown",
   "id": "46464dc8-0c26-438b-9997-12b6c6228806",
   "metadata": {},
   "source": [
    "# CP selection, K018"
   ]
  },
  {
   "cell_type": "code",
   "execution_count": 3,
   "id": "0865e327-2fd7-4af9-8f38-cdcf01724892",
   "metadata": {},
   "outputs": [],
   "source": [
    "from matusplotlib import loadStanFit\n",
    "w=loadStanFit(f'data/sm2L09ThaccInfdva02211')\n",
    "y=w['y+']\n",
    "c=w['c+']\n",
    "msk=w['mask+']\n",
    "MAP=[5,1,3,9,7,6,4,2,8]"
   ]
  },
  {
   "cell_type": "code",
   "execution_count": 4,
   "id": "730fae7a-a3b6-479e-8b4e-6842f81b3181",
   "metadata": {},
   "outputs": [
    {
     "data": {
      "text/plain": [
       "array([0.78408499, 0.43718253, 0.66293705, 0.39555013, 0.41398802,\n",
       "              nan,        nan,        nan,        nan])"
      ]
     },
     "execution_count": 4,
     "metadata": {},
     "output_type": "execute_result"
    }
   ],
   "source": [
    "m=2;n=0\n",
    "coef,resid,cnew=getCMsingle(y[n,m,:,:],c[n,m,:,:],residVec=True)\n",
    "resid"
   ]
  },
  {
   "cell_type": "code",
   "execution_count": 16,
   "id": "604b18fe",
   "metadata": {},
   "outputs": [
    {
     "data": {
      "text/plain": [
       "array([[ 12.78765849,  -8.30329926],\n",
       "       [ -6.61271215,  13.16027383],\n",
       "       [ 34.95508973,  12.25106153],\n",
       "       [ 33.39206384, -27.5415143 ],\n",
       "       [ -6.35488793, -26.98679585],\n",
       "       [         nan,          nan],\n",
       "       [         nan,          nan],\n",
       "       [         nan,          nan],\n",
       "       [         nan,          nan]])"
      ]
     },
     "execution_count": 16,
     "metadata": {},
     "output_type": "execute_result"
    }
   ],
   "source": [
    "cnew"
   ]
  },
  {
   "cell_type": "code",
   "execution_count": 19,
   "id": "d3499546",
   "metadata": {},
   "outputs": [
    {
     "data": {
      "text/plain": [
       "array([0.53661331, 0.68830515, 0.59053588, 0.44522932, 1.18640848,\n",
       "       1.1133288 , 0.32921409, 0.91420083, 0.89807989])"
      ]
     },
     "execution_count": 19,
     "metadata": {},
     "output_type": "execute_result"
    }
   ],
   "source": [
    "np.sqrt(np.square(pred-c[n,m,:,:]).sum(1))"
   ]
  },
  {
   "cell_type": "code",
   "execution_count": 4,
   "id": "cd0cb9cd-97eb-48ab-b8b0-f2717e6e922b",
   "metadata": {},
   "outputs": [],
   "source": [
    "import matplotlib.patches as mpatches\n",
    "from matplotlib.transforms import Bbox\n",
    "# generate pictures and coding file for human rater\n",
    "mask=np.zeros(list(y.shape[:3])+[5])\n",
    "f=open('clb/out.txt','w')\n",
    "for n in range(y.shape[0]):\n",
    "    for m in range(6):\n",
    "        if msk[n,m]==0: continue\n",
    "        coef,resid,dis=getCMsingle(y[n,m,:,:],c[n,m,:,:])\n",
    "        pred=cmPredict(y[n,m,:,:],coef)\n",
    "        fig,ax=plt.subplots(figsize=[6,6])\n",
    "        P=[5,9][int(m==0 or m==3)]\n",
    "        for k in range(P):\n",
    "            ax.plot([pred[k,0],c[n,m,k,0]],[pred[k,1],c[n,m,k,1]],'-g');\n",
    "            circ=plt.Circle((c[n,m,k,0],c[n,m,k,1]), .5,ec='k',facecolor='w',alpha=.5)\n",
    "            ax.add_patch(circ)\n",
    "        #ax.plot(,'yo',ms=1);\n",
    "        ttl=f'{n}, {m},   '\n",
    "        plt.title(ttl)\n",
    "        for k,h in enumerate(MAP[:P]):\n",
    "            if not np.isnan(pred[k,0]): \n",
    "                mask[n,m,k,0]=1\n",
    "                ax.annotate(f'{h}',c[n,m,k,:]+1,alpha=.1)\n",
    "            else:ttl+=f'{h},'\n",
    "        f.write(ttl+'\\n')\n",
    "        ax.set_aspect(1)\n",
    "        plt.xlim([-17,17]);plt.ylim([-17,17]);\n",
    "        ax.set_xticks([]);ax.set_yticks([])\n",
    "        plt.tight_layout(pad=.1)\n",
    "        plt.savefig(f'clb/pics/{n*6+m:04d}.png',dpi=400)\n",
    "        plt.cla()\n",
    "        plt.close()\n",
    "        del circ\n",
    "        \n",
    "f.close()"
   ]
  },
  {
   "cell_type": "code",
   "execution_count": 4,
   "id": "efc9b17a",
   "metadata": {},
   "outputs": [
    {
     "data": {
      "text/plain": [
       "array([[[[  0.        ,   0.        ],\n",
       "         [-13.43903524,  13.43903524],\n",
       "         [ 13.43903524,  13.43903524],\n",
       "         ...,\n",
       "         [-13.43903524,   0.        ],\n",
       "         [  0.        ,  13.43903524],\n",
       "         [  0.        , -13.43903524]],\n",
       "\n",
       "        [[  0.        ,   0.        ],\n",
       "         [-13.43903524,  13.43903524],\n",
       "         [ 13.43903524,  13.43903524],\n",
       "         ...,\n",
       "         [         nan,          nan],\n",
       "         [         nan,          nan],\n",
       "         [         nan,          nan]],\n",
       "\n",
       "        [[  0.        ,   0.        ],\n",
       "         [-13.43903524,  13.43903524],\n",
       "         [ 13.43903524,  13.43903524],\n",
       "         ...,\n",
       "         [         nan,          nan],\n",
       "         [         nan,          nan],\n",
       "         [         nan,          nan]],\n",
       "\n",
       "        [[  0.        ,   0.        ],\n",
       "         [-13.43903524,  13.43903524],\n",
       "         [ 13.43903524,  13.43903524],\n",
       "         ...,\n",
       "         [         nan,          nan],\n",
       "         [  0.        ,  13.43903524],\n",
       "         [  0.        , -13.43903524]],\n",
       "\n",
       "        [[  0.        ,   0.        ],\n",
       "         [-13.43903524,  13.43903524],\n",
       "         [ 13.43903524,  13.43903524],\n",
       "         ...,\n",
       "         [         nan,          nan],\n",
       "         [         nan,          nan],\n",
       "         [         nan,          nan]],\n",
       "\n",
       "        [[  0.        ,   0.        ],\n",
       "         [-13.43903524,  13.43903524],\n",
       "         [         nan,          nan],\n",
       "         ...,\n",
       "         [         nan,          nan],\n",
       "         [         nan,          nan],\n",
       "         [         nan,          nan]]],\n",
       "\n",
       "\n",
       "       [[[  0.        ,   0.        ],\n",
       "         [-13.43903524,  13.43903524],\n",
       "         [         nan,          nan],\n",
       "         ...,\n",
       "         [-13.43903524,   0.        ],\n",
       "         [         nan,          nan],\n",
       "         [  0.        , -13.43903524]],\n",
       "\n",
       "        [[  0.        ,   0.        ],\n",
       "         [         nan,          nan],\n",
       "         [         nan,          nan],\n",
       "         ...,\n",
       "         [         nan,          nan],\n",
       "         [         nan,          nan],\n",
       "         [         nan,          nan]],\n",
       "\n",
       "        [[  0.        ,   0.        ],\n",
       "         [-13.43903524,  13.43903524],\n",
       "         [ 13.43903524,  13.43903524],\n",
       "         ...,\n",
       "         [         nan,          nan],\n",
       "         [         nan,          nan],\n",
       "         [         nan,          nan]],\n",
       "\n",
       "        [[  0.        ,   0.        ],\n",
       "         [         nan,          nan],\n",
       "         [ 13.43903524,  13.43903524],\n",
       "         ...,\n",
       "         [-13.43903524,   0.        ],\n",
       "         [         nan,          nan],\n",
       "         [  0.        , -13.43903524]],\n",
       "\n",
       "        [[  0.        ,   0.        ],\n",
       "         [         nan,          nan],\n",
       "         [         nan,          nan],\n",
       "         ...,\n",
       "         [         nan,          nan],\n",
       "         [         nan,          nan],\n",
       "         [         nan,          nan]],\n",
       "\n",
       "        [[  0.        ,   0.        ],\n",
       "         [-13.43903524,  13.43903524],\n",
       "         [ 13.43903524,  13.43903524],\n",
       "         ...,\n",
       "         [         nan,          nan],\n",
       "         [         nan,          nan],\n",
       "         [         nan,          nan]]],\n",
       "\n",
       "\n",
       "       [[[         nan,          nan],\n",
       "         [         nan,          nan],\n",
       "         [         nan,          nan],\n",
       "         ...,\n",
       "         [         nan,          nan],\n",
       "         [         nan,          nan],\n",
       "         [  0.        , -13.43903524]],\n",
       "\n",
       "        [[  0.        ,   0.        ],\n",
       "         [         nan,          nan],\n",
       "         [         nan,          nan],\n",
       "         ...,\n",
       "         [         nan,          nan],\n",
       "         [         nan,          nan],\n",
       "         [         nan,          nan]],\n",
       "\n",
       "        [[         nan,          nan],\n",
       "         [         nan,          nan],\n",
       "         [         nan,          nan],\n",
       "         ...,\n",
       "         [         nan,          nan],\n",
       "         [         nan,          nan],\n",
       "         [         nan,          nan]],\n",
       "\n",
       "        [[  0.        ,   0.        ],\n",
       "         [-13.43903524,  13.43903524],\n",
       "         [ 13.43903524,  13.43903524],\n",
       "         ...,\n",
       "         [-13.43903524,   0.        ],\n",
       "         [  0.        ,  13.43903524],\n",
       "         [  0.        , -13.43903524]],\n",
       "\n",
       "        [[  0.        ,   0.        ],\n",
       "         [         nan,          nan],\n",
       "         [         nan,          nan],\n",
       "         ...,\n",
       "         [         nan,          nan],\n",
       "         [         nan,          nan],\n",
       "         [         nan,          nan]],\n",
       "\n",
       "        [[  0.        ,   0.        ],\n",
       "         [         nan,          nan],\n",
       "         [ 13.43903524,  13.43903524],\n",
       "         ...,\n",
       "         [         nan,          nan],\n",
       "         [         nan,          nan],\n",
       "         [         nan,          nan]]],\n",
       "\n",
       "\n",
       "       ...,\n",
       "\n",
       "\n",
       "       [[[  0.        ,   0.        ],\n",
       "         [-13.43903524,  13.43903524],\n",
       "         [ 13.43903524,  13.43903524],\n",
       "         ...,\n",
       "         [-13.43903524,   0.        ],\n",
       "         [  0.        ,  13.43903524],\n",
       "         [  0.        , -13.43903524]],\n",
       "\n",
       "        [[  0.        ,   0.        ],\n",
       "         [-13.43903524,  13.43903524],\n",
       "         [ 13.43903524,  13.43903524],\n",
       "         ...,\n",
       "         [         nan,          nan],\n",
       "         [         nan,          nan],\n",
       "         [         nan,          nan]],\n",
       "\n",
       "        [[  0.        ,   0.        ],\n",
       "         [-13.43903524,  13.43903524],\n",
       "         [         nan,          nan],\n",
       "         ...,\n",
       "         [         nan,          nan],\n",
       "         [         nan,          nan],\n",
       "         [         nan,          nan]],\n",
       "\n",
       "        [[  0.        ,   0.        ],\n",
       "         [-13.43903524,  13.43903524],\n",
       "         [ 13.43903524,  13.43903524],\n",
       "         ...,\n",
       "         [-13.43903524,   0.        ],\n",
       "         [  0.        ,  13.43903524],\n",
       "         [  0.        , -13.43903524]],\n",
       "\n",
       "        [[  0.        ,   0.        ],\n",
       "         [-13.43903524,  13.43903524],\n",
       "         [ 13.43903524,  13.43903524],\n",
       "         ...,\n",
       "         [         nan,          nan],\n",
       "         [         nan,          nan],\n",
       "         [         nan,          nan]],\n",
       "\n",
       "        [[  0.        ,   0.        ],\n",
       "         [-13.43903524,  13.43903524],\n",
       "         [         nan,          nan],\n",
       "         ...,\n",
       "         [         nan,          nan],\n",
       "         [         nan,          nan],\n",
       "         [         nan,          nan]]],\n",
       "\n",
       "\n",
       "       [[[  0.        ,   0.        ],\n",
       "         [         nan,          nan],\n",
       "         [         nan,          nan],\n",
       "         ...,\n",
       "         [-13.43903524,   0.        ],\n",
       "         [  0.        ,  13.43903524],\n",
       "         [  0.        , -13.43903524]],\n",
       "\n",
       "        [[  0.        ,   0.        ],\n",
       "         [         nan,          nan],\n",
       "         [         nan,          nan],\n",
       "         ...,\n",
       "         [         nan,          nan],\n",
       "         [         nan,          nan],\n",
       "         [         nan,          nan]],\n",
       "\n",
       "        [[  0.        ,   0.        ],\n",
       "         [-13.43903524,  13.43903524],\n",
       "         [ 13.43903524,  13.43903524],\n",
       "         ...,\n",
       "         [         nan,          nan],\n",
       "         [         nan,          nan],\n",
       "         [         nan,          nan]],\n",
       "\n",
       "        [[  0.        ,   0.        ],\n",
       "         [-13.43903524,  13.43903524],\n",
       "         [ 13.43903524,  13.43903524],\n",
       "         ...,\n",
       "         [-13.43903524,   0.        ],\n",
       "         [  0.        ,  13.43903524],\n",
       "         [  0.        , -13.43903524]],\n",
       "\n",
       "        [[  0.        ,   0.        ],\n",
       "         [         nan,          nan],\n",
       "         [         nan,          nan],\n",
       "         ...,\n",
       "         [         nan,          nan],\n",
       "         [         nan,          nan],\n",
       "         [         nan,          nan]],\n",
       "\n",
       "        [[  0.        ,   0.        ],\n",
       "         [-13.43903524,  13.43903524],\n",
       "         [ 13.43903524,  13.43903524],\n",
       "         ...,\n",
       "         [         nan,          nan],\n",
       "         [         nan,          nan],\n",
       "         [         nan,          nan]]],\n",
       "\n",
       "\n",
       "       [[[  0.        ,   0.        ],\n",
       "         [-13.43903524,  13.43903524],\n",
       "         [         nan,          nan],\n",
       "         ...,\n",
       "         [-13.43903524,   0.        ],\n",
       "         [         nan,          nan],\n",
       "         [         nan,          nan]],\n",
       "\n",
       "        [[  0.        ,   0.        ],\n",
       "         [-13.43903524,  13.43903524],\n",
       "         [ 13.43903524,  13.43903524],\n",
       "         ...,\n",
       "         [         nan,          nan],\n",
       "         [         nan,          nan],\n",
       "         [         nan,          nan]],\n",
       "\n",
       "        [[         nan,          nan],\n",
       "         [         nan,          nan],\n",
       "         [         nan,          nan],\n",
       "         ...,\n",
       "         [         nan,          nan],\n",
       "         [         nan,          nan],\n",
       "         [         nan,          nan]],\n",
       "\n",
       "        [[  0.        ,   0.        ],\n",
       "         [-13.43903524,  13.43903524],\n",
       "         [         nan,          nan],\n",
       "         ...,\n",
       "         [-13.43903524,   0.        ],\n",
       "         [         nan,          nan],\n",
       "         [  0.        , -13.43903524]],\n",
       "\n",
       "        [[  0.        ,   0.        ],\n",
       "         [-13.43903524,  13.43903524],\n",
       "         [ 13.43903524,  13.43903524],\n",
       "         ...,\n",
       "         [         nan,          nan],\n",
       "         [         nan,          nan],\n",
       "         [         nan,          nan]],\n",
       "\n",
       "        [[         nan,          nan],\n",
       "         [         nan,          nan],\n",
       "         [         nan,          nan],\n",
       "         ...,\n",
       "         [         nan,          nan],\n",
       "         [         nan,          nan],\n",
       "         [         nan,          nan]]]])"
      ]
     },
     "execution_count": 4,
     "metadata": {},
     "output_type": "execute_result"
    }
   ],
   "source": [
    "c"
   ]
  },
  {
   "cell_type": "code",
   "execution_count": 6,
   "id": "6173ae65-c1fe-434b-b7b6-27b31b728cbc",
   "metadata": {},
   "outputs": [],
   "source": [
    "#read rater's file\n",
    "MAP=[5,1,3,9,7,6,4,2,8]\n",
    "with open('clb/ms.txt','r') as f: lns=f.readlines()\n",
    "mask[:,:,:,1]=0\n",
    "for ln in lns:\n",
    "    ln=ln.replace(' ','')\n",
    "    tmp=ln.rstrip('\\n').rsplit(',')\n",
    "    if tmp[-1]=='':tmp.pop()\n",
    "    vs=list(map(int,tmp))\n",
    "    P=[5,9][int(vs[1]==0 or vs[1]==3)]\n",
    "    mask[vs[0],vs[1],:P,1]=1\n",
    "    for v in vs[2:]:\n",
    "        mask[vs[0],vs[1],MAP.index(v),1]=0"
   ]
  },
  {
   "cell_type": "code",
   "execution_count": 9,
   "id": "00694471-3a7f-456c-a0b4-089f6e36b16e",
   "metadata": {},
   "outputs": [
    {
     "name": "stdout",
     "output_type": "stream",
     "text": [
      "1.75 0.679267129607234\n"
     ]
    },
    {
     "data": {
      "image/png": "[encoded data removed]",
      "text/plain": [
       "<Figure size 432x288 with 1 Axes>"
      ]
     },
     "metadata": {
      "needs_background": "light"
     },
     "output_type": "display_data"
    }
   ],
   "source": [
    "ths=np.linspace(1,3,41)#th=2.4, norm=0.8\n",
    "kaps=[]\n",
    "for t in range(len(ths)): \n",
    "    mask[:,:,:,2]=selCPalgoAll(y,c,THACC=ths[t],NORM=0,MINVALIDCL=3)\n",
    "    shp=list(mask.shape)\n",
    "    kaps.append(compare(np.reshape(mask,[shp[0]*shp[1]]+shp[2:],order='F')))\n",
    "plt.plot(ths,kaps)\n",
    "plt.title('norm=0 (mean)')\n",
    "th=ths[np.argmax(kaps)]\n",
    "print(th,np.max(kaps))"
   ]
  },
  {
   "cell_type": "code",
   "execution_count": 15,
   "id": "b43084bf-a603-46ef-a7e7-d1342fa28c93",
   "metadata": {},
   "outputs": [
    {
     "name": "stdout",
     "output_type": "stream",
     "text": [
      "0.00,0.37\n",
      "0.06,0.44\n",
      "0.06,0.44\n",
      "p0=0.941,kappa=0.679\n",
      "sensitivity 0.9728322390762961 4417\n",
      "specificity 0.6772983114446529 533\n"
     ]
    }
   ],
   "source": [
    "mask[:,:,:,2]=selCPalgoAll(y,c,THACC=th,NORM=0,MINVALIDCL=3)\n",
    "shp=list(mask.shape)\n",
    "compare(np.reshape(mask[:,:,:,[0,1,2]],[shp[0]*shp[1]]+[shp[2],3],order='F'),verbose=True);\n",
    "#compare(np.reshape(mask,[shp[0]*shp[1]]+shp[2:],order='F'),verbose=True,excludeNan=False)"
   ]
  },
  {
   "cell_type": "markdown",
   "id": "ae27f406-fa0e-4016-8223-82d07dbd0e00",
   "metadata": {},
   "source": [
    "# rater 1 vs stan model"
   ]
  },
  {
   "cell_type": "code",
   "execution_count": 13,
   "id": "62d55519-75ec-40e2-b4e8-965bb88842f0",
   "metadata": {},
   "outputs": [
    {
     "data": {
      "text/plain": [
       "0.0150519978106185"
      ]
     },
     "execution_count": 13,
     "metadata": {},
     "output_type": "execute_result"
    }
   ],
   "source": [
    "xo=np.median(w['onTargetGen'],0).flatten()\n",
    "#x=np.log(x/(1-x))\n",
    "yo=mask[:,:,:,1].flatten()\n",
    "np.logical_and(xo>.1,xo<.9).mean()"
   ]
  },
  {
   "cell_type": "code",
   "execution_count": 47,
   "id": "88bf32ef-5bfe-46aa-b105-ac0deaef7eb5",
   "metadata": {},
   "outputs": [
    {
     "data": {
      "image/png": "[encoded data removed]",
      "text/plain": [
       "<Figure size 640x480 with 1 Axes>"
      ]
     },
     "metadata": {},
     "output_type": "display_data"
    },
    {
     "data": {
      "image/png": "[encoded data removed]",
      "text/plain": [
       "<Figure size 640x480 with 1 Axes>"
      ]
     },
     "metadata": {},
     "output_type": "display_data"
    }
   ],
   "source": [
    "plt.hist(xo[yo==0]);\n",
    "plt.figure()\n",
    "plt.hist(xo[yo==1]);"
   ]
  },
  {
   "cell_type": "code",
   "execution_count": 22,
   "id": "03cf2ebf-046a-4cb5-b788-3e9286a40c4b",
   "metadata": {},
   "outputs": [
    {
     "name": "stdout",
     "output_type": "stream",
     "text": [
      "0.00,0.37\n",
      "0.06,0.44\n",
      "0.01,0.42\n",
      "p0=0.914,kappa=0.468\n",
      "sensitivity 0.9735114330993887 4417\n",
      "specificity 0.4202626641651032 533\n"
     ]
    },
    {
     "data": {
      "text/plain": [
       "0.4678754434371305"
      ]
     },
     "execution_count": 22,
     "metadata": {},
     "output_type": "execute_result"
    }
   ],
   "source": [
    "mask[:,:,:,3]=np.int32(np.median(w['onTargetGen'],0)>.5)\n",
    "dat=np.reshape(mask[:,:,:,[0,1,3]],[shp[0]*shp[1]]+[shp[2],3],order='F')\n",
    "compare(dat,verbose=True)\n",
    "#compare(dat,verbose=True,excludeNan=False);"
   ]
  },
  {
   "cell_type": "code",
   "execution_count": 49,
   "id": "9b13e9f4-b079-447f-8a09-c6ffe1b3acf0",
   "metadata": {},
   "outputs": [
    {
     "name": "stdout",
     "output_type": "stream",
     "text": [
      "0.00,0.67\n",
      "0.60,0.87\n",
      "0.01,0.70\n",
      "p0=0.499,kappa=0.133\n",
      "sensitivity 0.9947916666666666 192\n",
      "specificity 0.1649122807017544 285\n",
      "0.00,0.56\n",
      "0.55,0.82\n",
      "0.00,0.60\n",
      "p0=0.497,kappa=0.124\n",
      "sensitivity 0.9959183673469387 245\n",
      "specificity 0.15211267605633802 355\n",
      "0.00,0.44\n",
      "0.47,0.72\n",
      "0.00,0.48\n",
      "p0=0.555,kappa=0.112\n",
      "sensitivity 0.9906396255850234 641\n",
      "specificity 0.12111801242236025 644\n",
      "0.00,0.33\n",
      "0.61,0.75\n",
      "0.00,0.41\n",
      "p0=0.452,kappa=0.087\n",
      "sensitivity 0.9516129032258065 62\n",
      "specificity 0.16037735849056603 106\n",
      "0.00,0.22\n",
      "0.59,0.71\n",
      "0.00,0.33\n",
      "p0=0.512,kappa=0.171\n",
      "sensitivity 0.9907407407407407 108\n",
      "specificity 0.22346368715083798 179\n",
      "0.00,0.11\n",
      "0.52,0.59\n",
      "0.00,0.22\n",
      "p0=0.558,kappa=0.168\n",
      "sensitivity 0.9783549783549783 231\n",
      "specificity 0.20146520146520147 273\n",
      "0.00,0.00\n",
      "0.45,0.46\n",
      "0.00,0.08\n",
      "p0=0.606,kappa=0.156\n",
      "sensitivity 0.9863481228668942 879\n",
      "specificity 0.16 750\n"
     ]
    }
   ],
   "source": [
    "for k in range(3,10):\n",
    "    sel=dat[:,:,0].sum(1)==k\n",
    "    compare(dat[sel,:,:],verbose=True)"
   ]
  },
  {
   "cell_type": "markdown",
   "id": "ca858287-6de0-47f1-b514-5a1d0c2e112d",
   "metadata": {},
   "source": [
    "# CPselAlgo vs stan model"
   ]
  },
  {
   "cell_type": "code",
   "execution_count": 18,
   "id": "6090d7fc-d10e-44c7-a2c7-8c52764ced71",
   "metadata": {},
   "outputs": [
    {
     "name": "stdout",
     "output_type": "stream",
     "text": [
      "0.00,0.37\n",
      "0.07,0.43\n",
      "0.06,0.44\n",
      "p0=0.940,kappa=0.644\n",
      "sensitivity 0.962322695035461 4512\n",
      "specificity 0.7100456621004566 438\n"
     ]
    },
    {
     "data": {
      "text/plain": [
       "0.6438326096847291"
      ]
     },
     "execution_count": 18,
     "metadata": {},
     "output_type": "execute_result"
    }
   ],
   "source": [
    "masktmp=np.copy(mask[:,:,:,[0,3,2]])\n",
    "masktmp[:,:,:,2]=selCPalgoAll(y,c,THACC=1.75,NORM=0,MINVALIDCL=3)\n",
    "shp=list(masktmp.shape)\n",
    "compare(np.reshape(masktmp,[shp[0]*shp[1]]+shp[2:],order='F'),verbose=True)"
   ]
  },
  {
   "cell_type": "code",
   "execution_count": 17,
   "id": "1e74c256-994e-4a5c-9ddb-2e63f957ea02",
   "metadata": {},
   "outputs": [
    {
     "name": "stdout",
     "output_type": "stream",
     "text": [
      "1.7000000000000002 0.6411689398788715\n"
     ]
    },
    {
     "data": {
      "image/png": "[encoded data removed]",
      "text/plain": [
       "<Figure size 640x480 with 1 Axes>"
      ]
     },
     "metadata": {},
     "output_type": "display_data"
    }
   ],
   "source": [
    "ths=np.linspace(.1,2.1,41)#th=2.4, norm=0.8\n",
    "kaps=[]\n",
    "for t in range(len(ths)): \n",
    "    masktmp[:,:,:,2]=selCPalgoAll(y,c,THACC=ths[t],NORM=0,MINVALIDCL=3)\n",
    "    shp=list(masktmp.shape)\n",
    "    kaps.append(compare(np.reshape(masktmp,[shp[0]*shp[1]]+shp[2:],order='F')))\n",
    "plt.plot(ths,kaps)\n",
    "plt.title('norm=0 (mean)')\n",
    "th=ths[np.argmax(kaps)]\n",
    "print(th,np.max(kaps))"
   ]
  },
  {
   "cell_type": "code",
   "execution_count": 18,
   "id": "c007cb14-8406-4d5b-b7dc-1842c6a44103",
   "metadata": {},
   "outputs": [
    {
     "name": "stdout",
     "output_type": "stream",
     "text": [
      "0.00,0.37\n",
      "0.08,0.44\n",
      "0.06,0.44\n",
      "p0=0.936,kappa=0.641\n",
      "sensitivity 0.9630376344086021 4464\n",
      "specificity 0.6851851851851852 486\n"
     ]
    },
    {
     "data": {
      "text/plain": [
       "0.6411689398788715"
      ]
     },
     "execution_count": 18,
     "metadata": {},
     "output_type": "execute_result"
    }
   ],
   "source": [
    "masktmp[:,:,:,2]=selCPalgoAll(y,c,THACC=th,NORM=0,MINVALIDCL=3)\n",
    "shp=list(masktmp.shape)\n",
    "compare(np.reshape(masktmp,[shp[0]*shp[1]]+shp[2:],order='F'),verbose=True)"
   ]
  },
  {
   "cell_type": "markdown",
   "id": "cdb64309",
   "metadata": {},
   "source": [
    "# Tuning"
   ]
  },
  {
   "cell_type": "code",
   "execution_count": 3,
   "id": "87777bbd",
   "metadata": {},
   "outputs": [],
   "source": [
    "\n",
    "w=loadStanFit(f'data/sm2L09ThaccInfdva02211')\n",
    "y=w['y+']\n",
    "c=w['c+']\n",
    "msk=w['mask+']\n",
    "MAP=[5,1,3,9,7,6,4,2,8]\n",
    "VALID,RATER1,RATER2,ALGO,ALGOT,TRUTH=range(6)\n",
    "# get data about invalid measurements\n",
    "mask=np.zeros(list(y.shape[:3])+[TRUTH+1])\n",
    "for n in range(y.shape[0]):\n",
    "    for m in range(6):\n",
    "        if msk[n,m]==0: continue\n",
    "        P=[5,9][int(m==0 or m==3)]\n",
    "        for k,h in enumerate(MAP[:P]):\n",
    "            if not np.isnan(y[n,m,k,0]): mask[n,m,k,VALID]=1\n",
    "#read rater's file\n",
    "def readRater(fn):\n",
    "    with open(f'clb/{fn}.txt','r') as f: lns=f.readlines()\n",
    "    out=np.zeros(mask.shape[:3])\n",
    "    for ln in lns:\n",
    "        ln=ln.replace(' ','')\n",
    "        tmp=ln.rstrip('\\n').rsplit(',')\n",
    "        if tmp[-1]=='':tmp.pop()\n",
    "        #print(tmp)\n",
    "        vs=list(map(int,tmp))\n",
    "        P=[5,9][int(vs[1]==0 or vs[1]==3)]\n",
    "        out[vs[0],vs[1],:P]=1\n",
    "        for v in vs[2:]:\n",
    "            out[vs[0],vs[1],MAP.index(v)]=0\n",
    "    for n in range(out.shape[0]):\n",
    "        for m in range(out.shape[1]):\n",
    "            if out[n,m,:].sum()<3: out[n,m,:]=0\n",
    "    return out\n",
    "mask[:,:,:,RATER1]=readRater('ms')\n",
    "mask[:,:,:,RATER2]=readRater('ms2')\n",
    "mask[:,:,:,TRUTH]=np.int32(np.median(w['onTargetGen'],0)>.5)"
   ]
  },
  {
   "cell_type": "code",
   "execution_count": null,
   "id": "23b08523",
   "metadata": {},
   "outputs": [],
   "source": []
  },
  {
   "cell_type": "code",
   "execution_count": 4,
   "id": "07461aed",
   "metadata": {},
   "outputs": [
    {
     "name": "stdout",
     "output_type": "stream",
     "text": [
      "valid: 0.16,0.53\n",
      "rater: 0.32,0.60\n",
      "rater2: 0.37,0.62\n",
      "algo: 0.43,0.66\n",
      "algoT: 0.28,0.55\n",
      "truth: 0.19,0.56\n",
      "algo vs rater\n",
      "\tp0=0.844,kappa=0.000\n",
      "\tsensitivity 1.0 4180\n",
      "\tspecificity 0.0 770\n",
      "rater vs truth\n",
      "\tp0=0.878,kappa=0.398\n",
      "\tsensitivity 0.8878281622911695 4609\n",
      "\tspecificity 0.7419354838709677 341\n",
      "algo vs truth\n",
      "\tp0=0.931,kappa=0.000\n",
      "\tsensitivity 1.0 4609\n",
      "\tspecificity 0.0 341\n"
     ]
    }
   ],
   "source": [
    "mask[:,:,:,ALGO]=selCPalgoAll(y,c,th=2,minNrCL=3,repeat='trial',algo='local')\n",
    "mask[:,:,:,ALGOT]=selCPalgoAll(y,c,th=2,minNrCL=3,repeat='trial',algo='avg')\n",
    "nm=['valid','rater','rater2','algo','algoT','truth']\n",
    "for k in range(len(nm)):\n",
    "    sel=mask[:,:,:,k].sum(2)==0\n",
    "    print(f'{nm[k]}: {sel.mean():.2f},{1-mask[:,:,:,k].mean():.2f}')\n",
    "shp=list(mask.shape)\n",
    "dat=np.reshape(mask,[shp[0]*shp[1]]+shp[2:],order='F')\n",
    "\n",
    "print('algo vs rater')\n",
    "compare(dat[:,:,[VALID,ALGOT,RATER2]],verbose=True); \n",
    "print('rater vs truth')\n",
    "compare(dat[:,:,[VALID,RATER2,TRUTH]],verbose=True); \n",
    "print('algo vs truth')\n",
    "compare(dat[:,:,[VALID,ALGOT,TRUTH]],verbose=True); \n",
    "if False:\n",
    "    print('\\n\\n')\n",
    "    print('algoT vs rater')\n",
    "    compare(dat[:,:,[VALID,ALGOT,RATER1]],verbose=True); \n",
    "    print('algoT vs truth')\n",
    "    compare(dat[:,:,[VALID,ALGOT,TRUTH]],verbose=True); "
   ]
  },
  {
   "cell_type": "code",
   "execution_count": 14,
   "id": "ed48693f",
   "metadata": {},
   "outputs": [
    {
     "name": "stdout",
     "output_type": "stream",
     "text": [
      "0\n",
      "1\n",
      "2\n",
      "3\n",
      "0\n",
      "1\n",
      "2\n",
      "3\n",
      "0\n",
      "1\n",
      "2\n",
      "3\n"
     ]
    }
   ],
   "source": [
    "ths=np.linspace(0.5,5.5,51)#th=2.4, norm=0.8\n",
    "nrms=[0]#[0,.5,1,2,4,8,16,32]\n",
    "als=['avg','local','iter']\n",
    "mncs=[3,4,-1,0]\n",
    "kaps=np.zeros((len(als),len(mncs),ths.size,2))\n",
    "for a in range(len(als)):\n",
    "    for b in range(len(mncs)):\n",
    "        print(b)\n",
    "        for t in range(len(ths)): \n",
    "            mask[:,:,:,ALGOT]=selCPalgoAll(y,c,th=ths[t],\n",
    "                minNrCL=mncs[b],repeat=None,algo=als[a])\n",
    "            shp=list(mask.shape)\n",
    "            dat=np.reshape(mask,[shp[0]*shp[1]]+shp[2:],order='F')\n",
    "            kaps[a,b,t,0]=compare(dat[:,:,[VALID,ALGOT,RATER2]])\n",
    "            kaps[a,b,t,1]=compare(dat[:,:,[VALID,ALGOT,TRUTH]])"
   ]
  },
  {
   "cell_type": "code",
   "execution_count": 17,
   "id": "e4ee189a",
   "metadata": {
    "scrolled": false
   },
   "outputs": [
    {
     "name": "stdout",
     "output_type": "stream",
     "text": [
      "avg 3 3.5, 0.342\n",
      "avg 4 3.5, 0.247\n",
      "avg -1 3.5, 0.174\n",
      "avg 0 2.1, 0.096\n",
      "local 3 5.0, 0.440\n",
      "local 4 3.6, 0.299\n",
      "local -1 4.6, 0.182\n",
      "local 0 4.1, 0.096\n",
      "iter 3 2.6, 0.589\n",
      "iter 4 1.8, 0.348\n",
      "iter -1 2.7, 0.191\n",
      "iter 0 2.1, 0.096\n"
     ]
    },
    {
     "data": {
      "image/png": "[encoded data removed]",
      "text/plain": [
       "<Figure size 432x288 with 1 Axes>"
      ]
     },
     "metadata": {
      "needs_background": "light"
     },
     "output_type": "display_data"
    },
    {
     "data": {
      "image/png": "[encoded data removed]",
      "text/plain": [
       "<Figure size 432x288 with 1 Axes>"
      ]
     },
     "metadata": {
      "needs_background": "light"
     },
     "output_type": "display_data"
    },
    {
     "data": {
      "image/png": "[encoded data removed]",
      "text/plain": [
       "<Figure size 432x288 with 1 Axes>"
      ]
     },
     "metadata": {
      "needs_background": "light"
     },
     "output_type": "display_data"
    }
   ],
   "source": [
    "for a in range(len(als)):\n",
    "    plt.figure()\n",
    "    for b in range(len(mncs)):\n",
    "        #plt.plot(ths,kaps[:,k,0])\n",
    "        plt.plot(ths,kaps[a,b,:,1])\n",
    "        plt.title(f'algo={als[a]}, minNrCL={mncs[b]}')\n",
    "        plt.ylim([0,1])\n",
    "        th=ths[np.argmax(kaps[a,b,:,1])]\n",
    "        #plt.plot([ths[0],ths[-1]],[.398,.398])\n",
    "        print(f'{als[a]} {mncs[b]} {th:.1f}, {np.max(kaps[a,b,:,1]):.3f}')\n",
    "    plt.legend(mncs) "
   ]
  },
  {
   "cell_type": "code",
   "execution_count": 16,
   "id": "679f6d18",
   "metadata": {},
   "outputs": [
    {
     "name": "stdout",
     "output_type": "stream",
     "text": [
      "0 5.0 0.43986953339749124\n"
     ]
    },
    {
     "data": {
      "image/png": "[encoded data removed]",
      "text/plain": [
       "<Figure size 432x288 with 1 Axes>"
      ]
     },
     "metadata": {
      "needs_background": "light"
     },
     "output_type": "display_data"
    }
   ],
   "source": [
    "for k in range(len(nrms)):\n",
    "    plt.figure()\n",
    "    #plt.plot(ths,kaps[:,k,0])\n",
    "    plt.plot(ths,kaps[:,k,1])\n",
    "    plt.title(f'norm={nrms[k]} (mean)')\n",
    "    plt.ylim([0,1])\n",
    "    th=ths[np.argmax(kaps[:,k,1])]\n",
    "    #plt.plot([ths[0],ths[-1]],[.398,.398])\n",
    "    print(nrms[k],th,np.max(kaps[:,k,1]))"
   ]
  },
  {
   "cell_type": "code",
   "execution_count": 18,
   "id": "d0361061",
   "metadata": {},
   "outputs": [
    {
     "name": "stdout",
     "output_type": "stream",
     "text": [
      "0 3.5 0.34168898699791134\n"
     ]
    },
    {
     "data": {
      "image/png": "[encoded data removed]",
      "text/plain": [
       "<Figure size 432x288 with 1 Axes>"
      ]
     },
     "metadata": {
      "needs_background": "light"
     },
     "output_type": "display_data"
    }
   ],
   "source": [
    "for k in range(len(nrms)):\n",
    "    plt.figure()\n",
    "    #plt.plot(ths,kaps[:,k,0])\n",
    "    plt.plot(ths,kaps[:,k,1])\n",
    "    plt.title(f'norm={nrms[k]} (mean)')\n",
    "    plt.ylim([0,1])\n",
    "    th=ths[np.argmax(kaps[:,k,1])]\n",
    "    #plt.plot([ths[0],ths[-1]],[.398,.398])\n",
    "    print(nrms[k],th,np.max(kaps[:,k,1]))"
   ]
  },
  {
   "cell_type": "code",
   "execution_count": 20,
   "id": "0ba5cb67",
   "metadata": {},
   "outputs": [
    {
     "name": "stdout",
     "output_type": "stream",
     "text": [
      "0 3.5 0.24740006189087033\n"
     ]
    },
    {
     "data": {
      "image/png": "[encoded data removed]",
      "text/plain": [
       "<Figure size 432x288 with 1 Axes>"
      ]
     },
     "metadata": {
      "needs_background": "light"
     },
     "output_type": "display_data"
    }
   ],
   "source": [
    "for k in range(len(nrms)):\n",
    "    plt.figure()\n",
    "    #plt.plot(ths,kaps[:,k,0])\n",
    "    plt.plot(ths,kaps[:,k,1])\n",
    "    plt.title(f'norm={nrms[k]} (mean)')\n",
    "    plt.ylim([0,1])\n",
    "    th=ths[np.argmax(kaps[:,k,1])]\n",
    "    #plt.plot([ths[0],ths[-1]],[.398,.398])\n",
    "    print(nrms[k],th,np.max(kaps[:,k,1]))"
   ]
  },
  {
   "cell_type": "code",
   "execution_count": null,
   "id": "15e8982f",
   "metadata": {},
   "outputs": [],
   "source": []
  }
 ],
 "metadata": {
  "kernelspec": {
   "display_name": "Python 3 (ipykernel)",
   "language": "python",
   "name": "python3"
  },
  "language_info": {
   "codemirror_mode": {
    "name": "ipython",
    "version": 3
   },
   "file_extension": ".py",
   "mimetype": "text/x-python",
   "name": "python",
   "nbconvert_exporter": "python",
   "pygments_lexer": "ipython3",
   "version": "3.10.12"
  }
 },
 "nbformat": 4,
 "nbformat_minor": 5
}
