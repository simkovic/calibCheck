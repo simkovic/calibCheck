{
 "cells": [
  {
   "cell_type": "code",
   "execution_count": 1,
   "id": "a53b80be-91e6-4cf3-a272-6bcff87144cd",
   "metadata": {},
   "outputs": [
    {
     "name": "stderr",
     "output_type": "stream",
     "text": [
      "/usr/lib/python3/dist-packages/scipy/__init__.py:146: UserWarning: A NumPy version >=1.17.3 and <1.25.0 is required for this version of SciPy (detected version 1.26.4\n",
      "  warnings.warn(f\"A NumPy version >={np_minversion} and <{np_maxversion}\"\n"
     ]
    }
   ],
   "source": [
    "%matplotlib inline\n",
    "import pylab as plt\n",
    "import numpy as np\n",
    "from AnalyzeCalib import getCMsingle, selCPalgo\n",
    "NA=np.newaxis"
   ]
  },
  {
   "cell_type": "code",
   "execution_count": 2,
   "id": "a0f9e72d-1385-4f84-af7d-8f07b9f0b2bb",
   "metadata": {},
   "outputs": [],
   "source": [
    "def compare(dat,excludeNan=True,verbose=False):\n",
    "    if excludeNan:\n",
    "        sel=dat[:,:,0].sum(1)>2\n",
    "        dat=dat[sel,:,:]\n",
    "    dat[dat[:,:,1].sum(1)<3,:,1]=0\n",
    "    for k in range(3):\n",
    "        sel=dat[:,:,k].sum(1)==0\n",
    "        if verbose:print(f'{sel.mean():.2f},{1-dat[:,:,k].mean(axis=(0,1)):.2f}')\n",
    "    if excludeNan: cn=dat[:,:,0]\n",
    "    else:cn=1\n",
    "    A=np.logical_and(np.logical_and(dat[:,:,1]==1,dat[:,:,2]==1),cn==1).sum()\n",
    "    B=np.logical_and(np.logical_and(dat[:,:,1]==0,dat[:,:,2]==1),cn==1).sum()\n",
    "    C=np.logical_and(np.logical_and(dat[:,:,1]==1,dat[:,:,2]==0),cn==1).sum()\n",
    "    D=np.logical_and(np.logical_and(dat[:,:,1]==0,dat[:,:,2]==0),cn==1).sum()\n",
    "    N=A+B+C+D\n",
    "    p0=(A+D)/N;pe=(A+B)*(A+C)/N/N+(C+D)*(B+D)/N/N\n",
    "    kp=(p0-pe)/(1-pe)\n",
    "    if verbose:\n",
    "        print(f'p0={p0:.3f},kappa={kp:.3f}')\n",
    "        print('sensitivity',A/(A+C),A+C)\n",
    "        print('specificity',D/(B+D),B+D)\n",
    "    return kp\n",
    "def selCPalgoAll(y,c,THACC,NORM,MINVALIDCL):\n",
    "    temp=np.zeros(y.shape[:-1])\n",
    "    for n in range(y.shape[0]):\n",
    "        for m in range(y.shape[1]):\n",
    "            #P=[5,9][int(m==0 or m==3)]\n",
    "            temp[n,m,:,]= selCPalgo(np.hstack([y[n,m,:,:],c[n,m,:,:]]),THACC=THACC,NORM=NORM,MINVALIDCL=MINVALIDCL)\n",
    "    return temp"
   ]
  },
  {
   "cell_type": "markdown",
   "id": "787cfac4-aa09-47fa-af76-3bc1fabb146d",
   "metadata": {},
   "source": [
    "# K015"
   ]
  },
  {
   "cell_type": "code",
   "execution_count": 4,
   "id": "90c41073-e4dc-4dad-a3e5-44c1e25c72be",
   "metadata": {},
   "outputs": [],
   "source": [
    "import ast\n",
    "MP={5:0,1:1,3:2,9:3,7:4,6:5,4:6,2:7,8:8}\n",
    "with open('k015/calib.sel','r') as f: dr=ast.literal_eval(f.read())\n",
    "res=list(dr.values());ids=list(dr.keys())\n",
    "for h in range(len(ids)):\n",
    "    ids[h]=np.int32(ids[h].rsplit('_'))\n",
    "ids=np.array(ids,dtype=np.int32)\n",
    "D0=np.load('k015/D0.npy')\n",
    "for n in range(D0.shape[0]):\n",
    "    sel=np.logical_and(D0[n,0]==ids[:,0],D0[n,1]==ids[:,1]).nonzero()[0]\n",
    "    assert(len(sel)==1)\n",
    "    D0[n,-1]= len(res[sel[0]])!=0\n",
    "\n",
    "D1=np.load('k015/D2.npy')\n",
    "sel=np.logical_and(~np.any(np.isnan(D1[:,1:-1,1]),1),D0[:,-1]==1)\n",
    "sel=D0[:,-1]==1\n",
    "D1=D1[sel,1:-1,1:7]\n",
    "#D1[:,:,[6,7]]=(D1[:,:,[2,3]]+D1[:,:,[4,5]])/2\n",
    "#D2=np.load('k015/D2cal.npy')[sel,1:-1,1:9]\n",
    "#D2[:,:,[6,7]]=(D2[:,:,[2,3]]+D2[:,:,[4,5]])/2\n",
    "mask=np.ones((D1.shape[0],2,D1.shape[1],5),dtype=np.int32)\n",
    "D0=D0[sel,:]\n",
    "for e in range(2):\n",
    "    mask[:,e,:,0]=1-np.int32(np.isnan(D1[:,:,2+e*2]))\n",
    "    mask[np.isnan(D1[:,:,2+e*2]).sum(1)>7,e,:,0]=0\n",
    "    for n in range(D1.shape[0]):\n",
    "        if np.all(np.isnan(D1[n,:,0])):\n",
    "            mask[n,e,:,1]=0\n",
    "            continue\n",
    "        \n",
    "        sel=np.logical_and(D0[n,0]==ids[:,0],D0[n,1]==ids[:,1]).nonzero()[0]\n",
    "        assert(len(sel)==1)\n",
    "        d=res[sel[0]]\n",
    "        if len(d)==0: mask[n,e,:,1]=0\n",
    "        elif len(d)==2:\n",
    "            for h in d[e]:mask[n,e,MP[h],1]=0\n",
    "            mask[n,e,np.isnan(D1[n,:,2+e*2]),1]=0\n",
    "        else:stop\n",
    "        #if D0[n,0]==67 and D0[n,1]==7:stop"
   ]
  },
  {
   "cell_type": "code",
   "execution_count": 34,
   "id": "595d03b3-e7c7-46df-bc1d-6adedf056c9c",
   "metadata": {},
   "outputs": [
    {
     "data": {
      "text/plain": [
       "(279, 2, 9, 5)"
      ]
     },
     "execution_count": 34,
     "metadata": {},
     "output_type": "execute_result"
    }
   ],
   "source": [
    "mask.shape"
   ]
  },
  {
   "cell_type": "code",
   "execution_count": 5,
   "id": "c4eadec7-60f0-4af8-968f-5d9795a7c209",
   "metadata": {},
   "outputs": [
    {
     "name": "stdout",
     "output_type": "stream",
     "text": [
      "2.25 0.6711653490950099\n"
     ]
    },
    {
     "data": {
      "image/png": "[encoded data removed]",
      "text/plain": [
       "<Figure size 640x480 with 1 Axes>"
      ]
     },
     "metadata": {},
     "output_type": "display_data"
    }
   ],
   "source": [
    "ths=np.linspace(1.5,3.5,41)#th=2.4, norm=0.8\n",
    "kaps=[]\n",
    "for t in range(len(ths)): \n",
    "    for eye in range(2):\n",
    "        mask[:,eye,:,2]=np.squeeze(selCPalgoAll(D1[:,NA,:,[2+eye*2,3+eye*2]],D1[:,NA,:,:2],\n",
    "                                                THACC=ths[t],NORM=0,MINVALIDCL=3))\n",
    "    shp=list(mask.shape)\n",
    "    kaps.append(compare(np.reshape(mask,[shp[0]*shp[1]]+shp[2:],order='F')))\n",
    "plt.plot(ths,kaps)\n",
    "plt.title('norm=0 (mean)')\n",
    "th=ths[np.argmax(kaps)]\n",
    "print(th,np.nanmax(kaps))"
   ]
  },
  {
   "cell_type": "code",
   "execution_count": 7,
   "id": "01133b66-ba34-4d7d-8e6e-14f06c23eff7",
   "metadata": {},
   "outputs": [
    {
     "name": "stdout",
     "output_type": "stream",
     "text": [
      "0.00,0.08\n",
      "0.01,0.29\n",
      "0.00,0.21\n",
      "p0=0.882,kappa=0.608\n",
      "sensitivity 0.9818660427025446 3419\n",
      "specificity 0.541 1000\n",
      "0.04,0.12\n",
      "0.05,0.32\n",
      "0.04,0.24\n",
      "p0=0.896,kappa=0.744\n",
      "sensitivity 0.9818660427025446 3419\n",
      "specificity 0.7136618839675608 1603\n"
     ]
    },
    {
     "data": {
      "text/plain": [
       "0.7444951653076327"
      ]
     },
     "execution_count": 7,
     "metadata": {},
     "output_type": "execute_result"
    }
   ],
   "source": [
    "for eye in range(2):\n",
    "    mask[:,eye,:,2]=np.squeeze(selCPalgoAll(D1[:,NA,:,[2+eye*2,3+eye*2]],\n",
    "        D1[:,NA,:,:2],THACC=ths[t],NORM=0,MINVALIDCL=3))\n",
    "\n",
    "shp=list(mask.shape)\n",
    "compare(np.reshape(mask,[shp[0]*shp[1]]+shp[2:],order='F'),verbose=True)\n",
    "compare(np.reshape(mask,[shp[0]*shp[1]]+shp[2:],order='F'),verbose=True,excludeNan=False)"
   ]
  },
  {
   "cell_type": "code",
   "execution_count": null,
   "id": "ac4332a2-c995-4c88-a53e-edd36251a979",
   "metadata": {},
   "outputs": [],
   "source": [
    "eye=0\n",
    "for n in range(mask.shape[0]):\n",
    "    plt.figure();\n",
    "    sel=mask[n,:,eye,1]==mask[n,:,eye,2]\n",
    "    if np.all(sel):continue\n",
    "    plt.plot(D1[n,sel,2+2*eye],D1[n,sel,3+2*eye],'.g');\n",
    "    plt.plot(D1[n,~sel,2+2*eye],D1[n,~sel,3+2*eye],'.r');\n",
    "    plt.plot(D1[n,:,0],D1[n,:,1],'.y');\n",
    "    plt.title(n);"
   ]
  },
  {
   "cell_type": "code",
   "execution_count": 9,
   "id": "46248d02-13a1-45ff-a0c5-746a7c632b8d",
   "metadata": {},
   "outputs": [
    {
     "name": "stdout",
     "output_type": "stream",
     "text": [
      "[1 1 1 1 1 1 1 1 1]\n",
      "[1 1 1 1 1 1 0 1 1]\n",
      "[143   7]\n"
     ]
    },
    {
     "data": {
      "image/png": "[encoded data removed]",
      "text/plain": [
       "<Figure size 640x480 with 1 Axes>"
      ]
     },
     "metadata": {},
     "output_type": "display_data"
    }
   ],
   "source": [
    "n=245\n",
    "print(mask[n,:,eye,1])\n",
    "print(mask[n,:,eye,2])\n",
    "for k in range(9):\n",
    "    plt.plot(D1[n,k,[2+2*eye,0]],D1[n,k,[3+2*eye,1]],'-g');\n",
    "    plt.plot(D1[n,k,0],D1[n,k,1],'.y');\n",
    "print(D0[n,:2])"
   ]
  },
  {
   "cell_type": "code",
   "execution_count": null,
   "id": "7edb5846-5b30-42b3-85f1-d739dff298f6",
   "metadata": {},
   "outputs": [],
   "source": [
    "D0=np.load('k015/D0.npy')\n",
    "D1=np.load('k015/D2.npy')\n",
    "print(D1.shape)\n",
    "sel=~np.all(np.isnan(D1[:,1:-1,1]),1)\n",
    "D0=D0[sel,:]\n",
    "D1=D1[sel,1:-1,1:7]\n",
    "print(D1.shape)\n",
    "#print(mask[n,:,eye,1])\n",
    "#print(mask[n,:,eye,2])\n",
    "f=open('k015/am.txt','w')\n",
    "for n in range(D1.shape[0]):\n",
    "    for eye in range(2):\n",
    "        fig,ax=plt.subplots()\n",
    "        for k in range(9):\n",
    "            ax.plot(D1[n,k,[2+2*eye,0]],D1[n,k,[3+2*eye,1]],'-g');\n",
    "        ax.scatter(D1[n,:,0],D1[n,:,1],color='y');\n",
    "        ttl=f'{D0[n,0]}_{D0[n,1]}_{eye}'\n",
    "        plt.title(ttl)\n",
    "        txtout=f'{D0[n,0]},{D0[n,1]},{eye},'\n",
    "        for k,h in enumerate([5,1,3,9,7,6,4,2,8]):\n",
    "            if not np.isnan(D1[n,k,2+2*eye]): ax.annotate(f'{h}',(D1[n,k,0],D1[n,k,1]))\n",
    "            else:txtout+=f'{h},'\n",
    "        f.write(txtout+'\\n')\n",
    "        #plt.savefig(f'k015/clb/{n*2+eye:03d}.png')\n",
    "f.close()"
   ]
  },
  {
   "cell_type": "markdown",
   "id": "46464dc8-0c26-438b-9997-12b6c6228806",
   "metadata": {},
   "source": [
    "# CP selection, K018"
   ]
  },
  {
   "cell_type": "code",
   "execution_count": 4,
   "id": "0865e327-2fd7-4af9-8f38-cdcf01724892",
   "metadata": {},
   "outputs": [],
   "source": [
    "from matusplotlib import loadStanFit\n",
    "w=loadStanFit(f'data/sm2L09ThaccInfdva02211')\n",
    "y=w['y+']\n",
    "c=w['c+']\n",
    "msk=w['mask+']\n",
    "MAP=[5,1,3,9,7,6,4,2,8]"
   ]
  },
  {
   "cell_type": "code",
   "execution_count": 5,
   "id": "730fae7a-a3b6-479e-8b4e-6842f81b3181",
   "metadata": {},
   "outputs": [
    {
     "data": {
      "text/plain": [
       "(203, 6, 9, 2)"
      ]
     },
     "execution_count": 5,
     "metadata": {},
     "output_type": "execute_result"
    }
   ],
   "source": [
    "w['y+'].shape"
   ]
  },
  {
   "cell_type": "code",
   "execution_count": 6,
   "id": "cd0cb9cd-97eb-48ab-b8b0-f2717e6e922b",
   "metadata": {},
   "outputs": [
    {
     "ename": "FileNotFoundError",
     "evalue": "[Errno 2] No such file or directory: 'clb/out.txt'",
     "output_type": "error",
     "traceback": [
      "\u001b[0;31m---------------------------------------------------------------------------\u001b[0m",
      "\u001b[0;31mFileNotFoundError\u001b[0m                         Traceback (most recent call last)",
      "\u001b[0;32m/tmp/ipykernel_10094/3342449989.py\u001b[0m in \u001b[0;36m<module>\u001b[0;34m\u001b[0m\n\u001b[1;32m      1\u001b[0m \u001b[0;31m# generate pictures and coding file for human rater\u001b[0m\u001b[0;34m\u001b[0m\u001b[0;34m\u001b[0m\u001b[0m\n\u001b[1;32m      2\u001b[0m \u001b[0mmask\u001b[0m\u001b[0;34m=\u001b[0m\u001b[0mnp\u001b[0m\u001b[0;34m.\u001b[0m\u001b[0mzeros\u001b[0m\u001b[0;34m(\u001b[0m\u001b[0mlist\u001b[0m\u001b[0;34m(\u001b[0m\u001b[0my\u001b[0m\u001b[0;34m.\u001b[0m\u001b[0mshape\u001b[0m\u001b[0;34m[\u001b[0m\u001b[0;34m:\u001b[0m\u001b[0;36m3\u001b[0m\u001b[0;34m]\u001b[0m\u001b[0;34m)\u001b[0m\u001b[0;34m+\u001b[0m\u001b[0;34m[\u001b[0m\u001b[0;36m5\u001b[0m\u001b[0;34m]\u001b[0m\u001b[0;34m)\u001b[0m\u001b[0;34m\u001b[0m\u001b[0;34m\u001b[0m\u001b[0m\n\u001b[0;32m----> 3\u001b[0;31m \u001b[0mf\u001b[0m\u001b[0;34m=\u001b[0m\u001b[0mopen\u001b[0m\u001b[0;34m(\u001b[0m\u001b[0;34m'clb/out.txt'\u001b[0m\u001b[0;34m,\u001b[0m\u001b[0;34m'w'\u001b[0m\u001b[0;34m)\u001b[0m\u001b[0;34m\u001b[0m\u001b[0;34m\u001b[0m\u001b[0m\n\u001b[0m\u001b[1;32m      4\u001b[0m \u001b[0;32mfor\u001b[0m \u001b[0mn\u001b[0m \u001b[0;32min\u001b[0m \u001b[0mrange\u001b[0m\u001b[0;34m(\u001b[0m\u001b[0my\u001b[0m\u001b[0;34m.\u001b[0m\u001b[0mshape\u001b[0m\u001b[0;34m[\u001b[0m\u001b[0;36m0\u001b[0m\u001b[0;34m]\u001b[0m\u001b[0;34m)\u001b[0m\u001b[0;34m:\u001b[0m\u001b[0;34m\u001b[0m\u001b[0;34m\u001b[0m\u001b[0m\n\u001b[1;32m      5\u001b[0m     \u001b[0;32mfor\u001b[0m \u001b[0mm\u001b[0m \u001b[0;32min\u001b[0m \u001b[0mrange\u001b[0m\u001b[0;34m(\u001b[0m\u001b[0;36m6\u001b[0m\u001b[0;34m)\u001b[0m\u001b[0;34m:\u001b[0m\u001b[0;34m\u001b[0m\u001b[0;34m\u001b[0m\u001b[0m\n",
      "\u001b[0;31mFileNotFoundError\u001b[0m: [Errno 2] No such file or directory: 'clb/out.txt'"
     ]
    }
   ],
   "source": [
    "# generate pictures and coding file for human rater\n",
    "mask=np.zeros(list(y.shape[:3])+[5])\n",
    "f=open('clb/out.txt','w')\n",
    "for n in range(y.shape[0]):\n",
    "    for m in range(6):\n",
    "        if msk[n,m]==0: continue\n",
    "        fig,ax=plt.subplots()\n",
    "        P=[5,9][int(m==0 or m==3)]\n",
    "        for k in range(P):\n",
    "            ax.plot([y[n,m,k,0],c[n,m,k,0]],[y[n,m,k,1],c[n,m,k,1]],'-g');\n",
    "        ax.scatter(c[n,m,:P,0],c[n,m,:P,1],color='y');\n",
    "        ttl=f'{n}, {m},   '\n",
    "        plt.title(ttl)\n",
    "        for k,h in enumerate(MAP[:P]):\n",
    "            if not np.isnan(y[n,m,k,0]): \n",
    "                mask[n,m,k,0]=1\n",
    "                ax.annotate(f'{h}',c[n,m,k,:])\n",
    "            else:ttl+=f'{h},'\n",
    "        f.write(ttl+'\\n')\n",
    "        #plt.savefig(f'clb/pics/{n*6+m:04d}.png')\n",
    "        plt.close()\n",
    "f.close()"
   ]
  },
  {
   "cell_type": "code",
   "execution_count": 10,
   "id": "6173ae65-c1fe-434b-b7b6-27b31b728cbc",
   "metadata": {},
   "outputs": [],
   "source": [
    "#read rater's file\n",
    "MAP=[5,1,3,9,7,6,4,2,8]\n",
    "with open('clb/ms.txt','r') as f: lns=f.readlines()\n",
    "mask[:,:,:,1]=0\n",
    "for ln in lns:\n",
    "    ln=ln.replace(' ','')\n",
    "    tmp=ln.rstrip('\\n').rsplit(',')\n",
    "    if tmp[-1]=='':tmp.pop()\n",
    "    vs=list(map(int,tmp))\n",
    "    P=[5,9][int(vs[1]==0 or vs[1]==3)]\n",
    "    mask[vs[0],vs[1],:P,1]=1\n",
    "    for v in vs[2:]:\n",
    "        mask[vs[0],vs[1],MAP.index(v),1]=0"
   ]
  },
  {
   "cell_type": "code",
   "execution_count": 11,
   "id": "00694471-3a7f-456c-a0b4-089f6e36b16e",
   "metadata": {},
   "outputs": [
    {
     "name": "stdout",
     "output_type": "stream",
     "text": [
      "1.75 0.679267129607234\n"
     ]
    },
    {
     "data": {
      "image/png": "[encoded data removed]",
      "text/plain": [
       "<Figure size 640x480 with 1 Axes>"
      ]
     },
     "metadata": {},
     "output_type": "display_data"
    }
   ],
   "source": [
    "ths=np.linspace(1,3,41)#th=2.4, norm=0.8\n",
    "kaps=[]\n",
    "for t in range(len(ths)): \n",
    "    mask[:,:,:,2]=selCPalgoAll(y,c,THACC=ths[t],NORM=0,MINVALIDCL=3)\n",
    "    shp=list(mask.shape)\n",
    "    kaps.append(compare(np.reshape(mask,[shp[0]*shp[1]]+shp[2:],order='F')))\n",
    "plt.plot(ths,kaps)\n",
    "plt.title('norm=0 (mean)')\n",
    "th=ths[np.argmax(kaps)]\n",
    "print(th,np.max(kaps))"
   ]
  },
  {
   "cell_type": "code",
   "execution_count": 12,
   "id": "b43084bf-a603-46ef-a7e7-d1342fa28c93",
   "metadata": {},
   "outputs": [
    {
     "name": "stdout",
     "output_type": "stream",
     "text": [
      "0.00,0.37\n",
      "0.06,0.44\n",
      "0.06,0.44\n",
      "p0=0.941,kappa=0.679\n",
      "sensitivity 0.9728322390762961 4417\n",
      "specificity 0.6772983114446529 533\n",
      "0.16,0.53\n",
      "0.32,0.60\n",
      "0.32,0.59\n",
      "p0=0.973,kappa=0.945\n",
      "sensitivity 0.9728322390762961 4417\n",
      "specificity 0.973720397249809 6545\n"
     ]
    },
    {
     "data": {
      "text/plain": [
       "0.9447445368902645"
      ]
     },
     "execution_count": 12,
     "metadata": {},
     "output_type": "execute_result"
    }
   ],
   "source": [
    "mask[:,:,:,2]=selCPalgoAll(y,c,THACC=th,NORM=0,MINVALIDCL=3)\n",
    "shp=list(mask.shape)\n",
    "compare(np.reshape(mask,[shp[0]*shp[1]]+shp[2:],order='F'),verbose=True)\n",
    "compare(np.reshape(mask,[shp[0]*shp[1]]+shp[2:],order='F'),verbose=True,excludeNan=False)"
   ]
  },
  {
   "cell_type": "markdown",
   "id": "ae27f406-fa0e-4016-8223-82d07dbd0e00",
   "metadata": {},
   "source": [
    "# rater 1 vs stan model"
   ]
  },
  {
   "cell_type": "code",
   "execution_count": 13,
   "id": "62d55519-75ec-40e2-b4e8-965bb88842f0",
   "metadata": {},
   "outputs": [
    {
     "data": {
      "text/plain": [
       "0.0150519978106185"
      ]
     },
     "execution_count": 13,
     "metadata": {},
     "output_type": "execute_result"
    }
   ],
   "source": [
    "xo=np.median(w['onTargetGen'],0).flatten()\n",
    "#x=np.log(x/(1-x))\n",
    "yo=mask[:,:,:,1].flatten()\n",
    "np.logical_and(xo>.1,xo<.9).mean()"
   ]
  },
  {
   "cell_type": "code",
   "execution_count": 47,
   "id": "88bf32ef-5bfe-46aa-b105-ac0deaef7eb5",
   "metadata": {},
   "outputs": [
    {
     "data": {
      "image/png": "[encoded data removed]",
      "text/plain": [
       "<Figure size 640x480 with 1 Axes>"
      ]
     },
     "metadata": {},
     "output_type": "display_data"
    },
    {
     "data": {
      "image/png": "[encoded data removed]",
      "text/plain": [
       "<Figure size 640x480 with 1 Axes>"
      ]
     },
     "metadata": {},
     "output_type": "display_data"
    }
   ],
   "source": [
    "plt.hist(xo[yo==0]);\n",
    "plt.figure()\n",
    "plt.hist(xo[yo==1]);"
   ]
  },
  {
   "cell_type": "code",
   "execution_count": 48,
   "id": "6a80b6dc-5b4b-4003-a8c0-3a4bdc5c5ca7",
   "metadata": {},
   "outputs": [
    {
     "name": "stdout",
     "output_type": "stream",
     "text": [
      "0.00,0.37\n",
      "0.52,0.70\n",
      "0.00,0.43\n",
      "p0=0.554,kappa=0.140\n",
      "sensitivity 0.9877014418999152 2358\n",
      "specificity 0.15856481481481483 2592\n",
      "0.16,0.53\n",
      "0.65,0.78\n",
      "0.18,0.57\n",
      "p0=0.781,kappa=0.524\n",
      "sensitivity 0.9877014418999152 2358\n",
      "specificity 0.7246629474662948 8604\n"
     ]
    }
   ],
   "source": [
    "mask[:,:,:,3]=np.int32(np.median(w['onTargetGen'],0)>.5)\n",
    "dat=np.reshape(mask[:,:,:,[0,3,1,2,4]],[shp[0]*shp[1]]+shp[2:],order='F')\n",
    "compare(dat,verbose=True)\n",
    "compare(dat,verbose=True,excludeNan=False);"
   ]
  },
  {
   "cell_type": "code",
   "execution_count": 14,
   "id": "03cf2ebf-046a-4cb5-b788-3e9286a40c4b",
   "metadata": {},
   "outputs": [
    {
     "name": "stdout",
     "output_type": "stream",
     "text": [
      "0.00,0.37\n",
      "0.08,0.44\n",
      "0.00,0.43\n",
      "p0=0.903,kappa=0.428\n",
      "sensitivity 0.9513888888888888 4464\n",
      "specificity 0.4588477366255144 486\n",
      "0.16,0.53\n",
      "0.33,0.59\n",
      "0.18,0.57\n",
      "p0=0.939,kappa=0.875\n",
      "sensitivity 0.9513888888888888 4464\n",
      "specificity 0.9305940289319791 6498\n"
     ]
    }
   ],
   "source": [
    "mask[:,:,:,3]=np.int32(np.median(w['onTargetGen'],0)>.5)\n",
    "dat=np.reshape(mask[:,:,:,[0,3,1,2,4]],[shp[0]*shp[1]]+shp[2:],order='F')\n",
    "compare(dat,verbose=True)\n",
    "compare(dat,verbose=True,excludeNan=False);"
   ]
  },
  {
   "cell_type": "code",
   "execution_count": 49,
   "id": "9b13e9f4-b079-447f-8a09-c6ffe1b3acf0",
   "metadata": {},
   "outputs": [
    {
     "name": "stdout",
     "output_type": "stream",
     "text": [
      "0.00,0.67\n",
      "0.60,0.87\n",
      "0.01,0.70\n",
      "p0=0.499,kappa=0.133\n",
      "sensitivity 0.9947916666666666 192\n",
      "specificity 0.1649122807017544 285\n",
      "0.00,0.56\n",
      "0.55,0.82\n",
      "0.00,0.60\n",
      "p0=0.497,kappa=0.124\n",
      "sensitivity 0.9959183673469387 245\n",
      "specificity 0.15211267605633802 355\n",
      "0.00,0.44\n",
      "0.47,0.72\n",
      "0.00,0.48\n",
      "p0=0.555,kappa=0.112\n",
      "sensitivity 0.9906396255850234 641\n",
      "specificity 0.12111801242236025 644\n",
      "0.00,0.33\n",
      "0.61,0.75\n",
      "0.00,0.41\n",
      "p0=0.452,kappa=0.087\n",
      "sensitivity 0.9516129032258065 62\n",
      "specificity 0.16037735849056603 106\n",
      "0.00,0.22\n",
      "0.59,0.71\n",
      "0.00,0.33\n",
      "p0=0.512,kappa=0.171\n",
      "sensitivity 0.9907407407407407 108\n",
      "specificity 0.22346368715083798 179\n",
      "0.00,0.11\n",
      "0.52,0.59\n",
      "0.00,0.22\n",
      "p0=0.558,kappa=0.168\n",
      "sensitivity 0.9783549783549783 231\n",
      "specificity 0.20146520146520147 273\n",
      "0.00,0.00\n",
      "0.45,0.46\n",
      "0.00,0.08\n",
      "p0=0.606,kappa=0.156\n",
      "sensitivity 0.9863481228668942 879\n",
      "specificity 0.16 750\n"
     ]
    }
   ],
   "source": [
    "for k in range(3,10):\n",
    "    sel=dat[:,:,0].sum(1)==k\n",
    "    compare(dat[sel,:,:],verbose=True)"
   ]
  },
  {
   "cell_type": "markdown",
   "id": "ca858287-6de0-47f1-b514-5a1d0c2e112d",
   "metadata": {},
   "source": [
    "# CPselAlgo vs stan model"
   ]
  },
  {
   "cell_type": "code",
   "execution_count": 16,
   "id": "6090d7fc-d10e-44c7-a2c7-8c52764ced71",
   "metadata": {},
   "outputs": [
    {
     "name": "stdout",
     "output_type": "stream",
     "text": [
      "0.00,0.37\n",
      "0.08,0.44\n",
      "0.06,0.44\n",
      "p0=0.936,kappa=0.639\n",
      "sensitivity 0.9652777777777778 4464\n",
      "specificity 0.6707818930041153 486\n"
     ]
    },
    {
     "data": {
      "text/plain": [
       "0.638988793545349"
      ]
     },
     "execution_count": 16,
     "metadata": {},
     "output_type": "execute_result"
    }
   ],
   "source": [
    "masktmp=np.copy(mask[:,:,:,[0,3,2]])\n",
    "masktmp[:,:,:,2]=selCPalgoAll(y,c,THACC=1.75,NORM=0,MINVALIDCL=3)\n",
    "shp=list(masktmp.shape)\n",
    "compare(np.reshape(masktmp,[shp[0]*shp[1]]+shp[2:],order='F'),verbose=True)"
   ]
  },
  {
   "cell_type": "code",
   "execution_count": 17,
   "id": "1e74c256-994e-4a5c-9ddb-2e63f957ea02",
   "metadata": {},
   "outputs": [
    {
     "name": "stdout",
     "output_type": "stream",
     "text": [
      "1.7000000000000002 0.6411689398788715\n"
     ]
    },
    {
     "data": {
      "image/png": "[encoded data removed]",
      "text/plain": [
       "<Figure size 640x480 with 1 Axes>"
      ]
     },
     "metadata": {},
     "output_type": "display_data"
    }
   ],
   "source": [
    "ths=np.linspace(.1,2.1,41)#th=2.4, norm=0.8\n",
    "kaps=[]\n",
    "for t in range(len(ths)): \n",
    "    masktmp[:,:,:,2]=selCPalgoAll(y,c,THACC=ths[t],NORM=0,MINVALIDCL=3)\n",
    "    shp=list(masktmp.shape)\n",
    "    kaps.append(compare(np.reshape(masktmp,[shp[0]*shp[1]]+shp[2:],order='F')))\n",
    "plt.plot(ths,kaps)\n",
    "plt.title('norm=0 (mean)')\n",
    "th=ths[np.argmax(kaps)]\n",
    "print(th,np.max(kaps))"
   ]
  },
  {
   "cell_type": "code",
   "execution_count": 18,
   "id": "c007cb14-8406-4d5b-b7dc-1842c6a44103",
   "metadata": {},
   "outputs": [
    {
     "name": "stdout",
     "output_type": "stream",
     "text": [
      "0.00,0.37\n",
      "0.08,0.44\n",
      "0.06,0.44\n",
      "p0=0.936,kappa=0.641\n",
      "sensitivity 0.9630376344086021 4464\n",
      "specificity 0.6851851851851852 486\n"
     ]
    },
    {
     "data": {
      "text/plain": [
       "0.6411689398788715"
      ]
     },
     "execution_count": 18,
     "metadata": {},
     "output_type": "execute_result"
    }
   ],
   "source": [
    "masktmp[:,:,:,2]=selCPalgoAll(y,c,THACC=th,NORM=0,MINVALIDCL=3)\n",
    "shp=list(masktmp.shape)\n",
    "compare(np.reshape(masktmp,[shp[0]*shp[1]]+shp[2:],order='F'),verbose=True)"
   ]
  },
  {
   "cell_type": "code",
   "execution_count": null,
   "id": "76b9af8c-2601-45b9-b8a1-f257c10a6d09",
   "metadata": {},
   "outputs": [],
   "source": []
  }
 ],
 "metadata": {
  "kernelspec": {
   "display_name": "Python 3 (ipykernel)",
   "language": "python",
   "name": "python3"
  },
  "language_info": {
   "codemirror_mode": {
    "name": "ipython",
    "version": 3
   },
   "file_extension": ".py",
   "mimetype": "text/x-python",
   "name": "python",
   "nbconvert_exporter": "python",
   "pygments_lexer": "ipython3",
   "version": "3.10.12"
  }
 },
 "nbformat": 4,
 "nbformat_minor": 5
}
